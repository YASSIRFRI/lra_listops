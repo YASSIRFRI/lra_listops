{
 "cells": [
  {
   "cell_type": "code",
   "execution_count": null,
   "metadata": {
    "colab": {
     "base_uri": "https://localhost:8080/"
    },
    "id": "To-T2KghPzGA",
    "outputId": "1495ea1b-0cfe-43d4-8c4f-d502dee92a1e"
   },
   "outputs": [
    {
     "name": "stdout",
     "output_type": "stream",
     "text": [
      "Requirement already satisfied: transformers in /usr/local/lib/python3.10/dist-packages (4.46.2)\n",
      "Requirement already satisfied: datasets in /usr/local/lib/python3.10/dist-packages (3.1.0)\n",
      "Requirement already satisfied: torch in /usr/local/lib/python3.10/dist-packages (2.5.1+cu121)\n",
      "Requirement already satisfied: tqdm in /usr/local/lib/python3.10/dist-packages (4.66.6)\n",
      "Requirement already satisfied: filelock in /usr/local/lib/python3.10/dist-packages (from transformers) (3.16.1)\n",
      "Requirement already satisfied: huggingface-hub<1.0,>=0.23.2 in /usr/local/lib/python3.10/dist-packages (from transformers) (0.26.2)\n",
      "Requirement already satisfied: numpy>=1.17 in /usr/local/lib/python3.10/dist-packages (from transformers) (1.26.4)\n",
      "Requirement already satisfied: packaging>=20.0 in /usr/local/lib/python3.10/dist-packages (from transformers) (24.2)\n",
      "Requirement already satisfied: pyyaml>=5.1 in /usr/local/lib/python3.10/dist-packages (from transformers) (6.0.2)\n",
      "Requirement already satisfied: regex!=2019.12.17 in /usr/local/lib/python3.10/dist-packages (from transformers) (2024.9.11)\n",
      "Requirement already satisfied: requests in /usr/local/lib/python3.10/dist-packages (from transformers) (2.32.3)\n",
      "Requirement already satisfied: safetensors>=0.4.1 in /usr/local/lib/python3.10/dist-packages (from transformers) (0.4.5)\n",
      "Requirement already satisfied: tokenizers<0.21,>=0.20 in /usr/local/lib/python3.10/dist-packages (from transformers) (0.20.3)\n",
      "Requirement already satisfied: pyarrow>=15.0.0 in /usr/local/lib/python3.10/dist-packages (from datasets) (17.0.0)\n",
      "Requirement already satisfied: dill<0.3.9,>=0.3.0 in /usr/local/lib/python3.10/dist-packages (from datasets) (0.3.8)\n",
      "Requirement already satisfied: pandas in /usr/local/lib/python3.10/dist-packages (from datasets) (2.2.2)\n",
      "Requirement already satisfied: xxhash in /usr/local/lib/python3.10/dist-packages (from datasets) (3.5.0)\n",
      "Requirement already satisfied: multiprocess<0.70.17 in /usr/local/lib/python3.10/dist-packages (from datasets) (0.70.16)\n",
      "Requirement already satisfied: fsspec<=2024.9.0,>=2023.1.0 in /usr/local/lib/python3.10/dist-packages (from fsspec[http]<=2024.9.0,>=2023.1.0->datasets) (2024.9.0)\n",
      "Requirement already satisfied: aiohttp in /usr/local/lib/python3.10/dist-packages (from datasets) (3.11.2)\n",
      "Requirement already satisfied: typing-extensions>=4.8.0 in /usr/local/lib/python3.10/dist-packages (from torch) (4.12.2)\n",
      "Requirement already satisfied: networkx in /usr/local/lib/python3.10/dist-packages (from torch) (3.4.2)\n",
      "Requirement already satisfied: jinja2 in /usr/local/lib/python3.10/dist-packages (from torch) (3.1.4)\n",
      "Requirement already satisfied: sympy==1.13.1 in /usr/local/lib/python3.10/dist-packages (from torch) (1.13.1)\n",
      "Requirement already satisfied: mpmath<1.4,>=1.1.0 in /usr/local/lib/python3.10/dist-packages (from sympy==1.13.1->torch) (1.3.0)\n",
      "Requirement already satisfied: aiohappyeyeballs>=2.3.0 in /usr/local/lib/python3.10/dist-packages (from aiohttp->datasets) (2.4.3)\n",
      "Requirement already satisfied: aiosignal>=1.1.2 in /usr/local/lib/python3.10/dist-packages (from aiohttp->datasets) (1.3.1)\n",
      "Requirement already satisfied: attrs>=17.3.0 in /usr/local/lib/python3.10/dist-packages (from aiohttp->datasets) (24.2.0)\n",
      "Requirement already satisfied: frozenlist>=1.1.1 in /usr/local/lib/python3.10/dist-packages (from aiohttp->datasets) (1.5.0)\n",
      "Requirement already satisfied: multidict<7.0,>=4.5 in /usr/local/lib/python3.10/dist-packages (from aiohttp->datasets) (6.1.0)\n",
      "Requirement already satisfied: propcache>=0.2.0 in /usr/local/lib/python3.10/dist-packages (from aiohttp->datasets) (0.2.0)\n",
      "Requirement already satisfied: yarl<2.0,>=1.17.0 in /usr/local/lib/python3.10/dist-packages (from aiohttp->datasets) (1.17.2)\n",
      "Requirement already satisfied: async-timeout<6.0,>=4.0 in /usr/local/lib/python3.10/dist-packages (from aiohttp->datasets) (4.0.3)\n",
      "Requirement already satisfied: charset-normalizer<4,>=2 in /usr/local/lib/python3.10/dist-packages (from requests->transformers) (3.4.0)\n",
      "Requirement already satisfied: idna<4,>=2.5 in /usr/local/lib/python3.10/dist-packages (from requests->transformers) (3.10)\n",
      "Requirement already satisfied: urllib3<3,>=1.21.1 in /usr/local/lib/python3.10/dist-packages (from requests->transformers) (2.2.3)\n",
      "Requirement already satisfied: certifi>=2017.4.17 in /usr/local/lib/python3.10/dist-packages (from requests->transformers) (2024.8.30)\n",
      "Requirement already satisfied: MarkupSafe>=2.0 in /usr/local/lib/python3.10/dist-packages (from jinja2->torch) (3.0.2)\n",
      "Requirement already satisfied: python-dateutil>=2.8.2 in /usr/local/lib/python3.10/dist-packages (from pandas->datasets) (2.8.2)\n",
      "Requirement already satisfied: pytz>=2020.1 in /usr/local/lib/python3.10/dist-packages (from pandas->datasets) (2024.2)\n",
      "Requirement already satisfied: tzdata>=2022.7 in /usr/local/lib/python3.10/dist-packages (from pandas->datasets) (2024.2)\n",
      "Requirement already satisfied: six>=1.5 in /usr/local/lib/python3.10/dist-packages (from python-dateutil>=2.8.2->pandas->datasets) (1.16.0)\n",
      "Drive already mounted at /content/drive; to attempt to forcibly remount, call drive.mount(\"/content/drive\", force_remount=True).\n"
     ]
    }
   ],
   "source": [
    "\n",
    "# Install necessary libraries\n",
    "!pip install transformers datasets torch tqdm\n",
    "\n",
    "from google.colab import drive\n",
    "drive.mount('/content/drive')\n"
   ]
  },
  {
   "cell_type": "code",
   "execution_count": null,
   "metadata": {
    "colab": {
     "base_uri": "https://localhost:8080/"
    },
    "id": "i60dXoMSQWGy",
    "outputId": "ebf38ed4-a8a3-4d83-dddf-f6af514b6899"
   },
   "outputs": [
    {
     "name": "stdout",
     "output_type": "stream",
     "text": [
      "Dataset({\n",
      "    features: ['Source', 'Target'],\n",
      "    num_rows: 96000\n",
      "})\n",
      "{'Source': Value(dtype='string', id=None), 'Target': Value(dtype='int64', id=None)}\n"
     ]
    }
   ],
   "source": [
    "import pandas as pd\n",
    "from datasets import Dataset\n",
    "\n",
    "dataset_path = \"/content/drive/My Drive/listops/basic_train.tsv\"  # Update with your file path\n",
    "df = pd.read_csv(dataset_path, sep='\\t')\n",
    "df_base=df.copy()\n",
    "\n",
    "dataset = Dataset.from_pandas(df)\n",
    "\n",
    "print(dataset)\n",
    "print(dataset.features)\n"
   ]
  },
  {
   "cell_type": "code",
   "execution_count": null,
   "metadata": {
    "id": "KulkZjtWvGZe"
   },
   "outputs": [],
   "source": [
    "def clean_sequence(sequence):\n",
    "    \"\"\"\n",
    "    Cleans a sequence by removing excessive spaces or tabs between important characters.\n",
    "    Args:\n",
    "        sequence (str): The input sequence to clean.\n",
    "    Returns:\n",
    "        str: The cleaned sequence.\n",
    "    \"\"\"\n",
    "    cleaned_sequence = ''.join(sequence.split())\n",
    "    return cleaned_sequence\n",
    "\n",
    "\n"
   ]
  },
  {
   "cell_type": "code",
   "execution_count": null,
   "metadata": {
    "colab": {
     "base_uri": "https://localhost:8080/"
    },
    "id": "Q2EWxDQDuAsP",
    "outputId": "36ef7f7d-1ff8-46e8-b3ed-4528541b21d9"
   },
   "outputs": [
    {
     "name": "stdout",
     "output_type": "stream",
     "text": [
      "8538\n"
     ]
    }
   ],
   "source": [
    "print(len(df.head()['Source'][0]))\n",
    "\n"
   ]
  },
  {
   "cell_type": "code",
   "execution_count": null,
   "metadata": {
    "colab": {
     "base_uri": "https://localhost:8080/"
    },
    "id": "HIr2QUEIvOhB",
    "outputId": "6aded9ba-c3b0-4131-aca0-a05841de921a"
   },
   "outputs": [
    {
     "name": "stdout",
     "output_type": "stream",
     "text": [
      "4536\n"
     ]
    }
   ],
   "source": [
    "df['Source'] = df['Source'].apply(clean_sequence)\n",
    "\n",
    "print(len(df.head()['Source'][0]))"
   ]
  },
  {
   "cell_type": "code",
   "execution_count": null,
   "metadata": {
    "colab": {
     "base_uri": "https://localhost:8080/"
    },
    "id": "fJ-4eGN6vycv",
    "outputId": "f9e4d250-30b6-4e6f-a1c2-a627977a14db"
   },
   "outputs": [
    {
     "name": "stdout",
     "output_type": "stream",
     "text": [
      "((((((((((([MIN3)7)(((((((((([MAX((([MIN9)5)]))4)0)4)1)4)9)8)8)]))8)2)((((([MAX9)7)((((([MAX4)9)((((([SM6)7)6)((((((((([SM8)2)7)(((((([MAX6)5)9)6)2)]))((((((((((([MAX7)0)7)0)((((((([MED((((((([MAX4)1)6)6)((([MAX3)1)]))9)]))8)5)7)8)0)]))9)8)2)0)((((([MAX2)((((((((((([SM0)(((((([MAX5)6)0)9)6)]))((([MED0)5)]))((((((((((([MIN1)0)3)0)8)1)4)5)9)6)]))7)(((((((([MAX2)5)8)9)8)7)1)]))6)((([MAX0)5)]))6)6)]))9)6)]))]))0)9)6)]))]))4)]))(((((((((([SM2)(((((((([MED(((((([MIN(((((((((([MED1)7)1)((((((((((([MED6)2)3)2)1)7)6)5)(((((((((([SM4)(((((((([MAX9)1)5)4)7)4)8)]))3)3)(((((((([SM6)9)9)0)7)6)9)]))3)9)2)5)]))(((([MAX0)0)2)]))]))8)2)6)((((((((([MED1)2)((((([MAX8)7)2)(((((((((([MAX7)4)6)9)6)8)6)4)8)]))]))0)((((((((((([SM1)7)9)9)8)(((((((([MAX8)6)0)7)5)4)8)]))1)0)7)0)]))4)1)1)]))8)]))7)5)8)9)]))3)(((((((((([MIN(((((((((([MAX((((((((([SM6)8)4)2)8)9)8)(((((((((([MAX8)0)3)3)(((((((((([MED4)6)2)9)7)2)6)4)1)]))((([SM4)2)]))0)1)6)]))]))9)3)2)2)2)(((((((([MED(((((([MED(((([MAX6)7)4)]))8)(((((([MIN0)9)0)6)8)]))(((((([MIN8)8)4)2)8)]))(((((((((([MIN9)2)0)3)4)0)3)6)3)]))]))1)5)((((((([MED8)((((((((([SM5)7)9)7)8)0)2)4)]))(((([MIN3)6)2)]))((((((([SM5)2)2)5)6)8)]))7)9)]))4)7)5)]))4)5)]))((([MIN((([MAX9)8)]))5)]))5)4)3)2)((([MAX4)(((([MAX((((((((([MIN4)((((((((([MIN2)4)1)0)6)3)8)4)]))9)(((((((((([MED0)1)2)1)0)8)2)2)1)]))5)7)((((([MIN3)5)1)6)]))2)]))0)9)]))]))9)((((((((((([MED7)1)3)8)3)((((((((([MED((((((((((([SM((((([MAX5)1)0)7)]))8)2)5)((((((([MIN3)2)8)3)5)0)]))4)(((((([SM9)4)8)9)2)]))0)3)3)]))3)8)((((((([MIN((((((([MED3)4)7)9)1)5)]))3)6)2)4)2)]))1)7)((((((((((([MED((((([MIN8)2)0)7)]))4)4)0)9)7)6)(((((((((([MED1)0)8)6)9)5)6)8)5)]))9)(((((([SM4)9)9)9)5)]))]))1)]))7)((([MAX8)6)]))(((([MED8)2)9)]))((((((((((([MED7)9)2)((([MAX7)9)]))2)(((((((((([MIN3)3)(((([MAX5)9)0)]))((((([MAX9)6)4)3)]))1)((((([MAX4)1)9)2)]))5)9)5)]))2)4)0)9)]))]))]))((((((((([MAX1)(((((((((([MIN1)1)6)0)1)(((((([MED(((((((([MIN7)(((((([MAX0)8)6)0)2)]))4)(((([MAX3)0)1)]))1)4)4)]))0)(((((((((([MED5)0)(((((((((([MED8)0)2)9)7)2)3)9)5)]))6)1)4)((((([SM1)9)2)2)]))3)4)]))1)2)]))9)2)7)]))3)0)5)8)4)(((((((((([SM7)6)7)(((([MAX2)((((((((((([MIN4)2)3)9)3)1)((((((((([MAX2)4)0)6)7)8)7)4)]))8)4)3)]))2)]))1)((([MED9)5)]))5)7)0)]))]))((((((((([MIN((([SM(((((([MAX((((((((((([MIN((((((((([SM8)0)3)9)9)0)1)7)]))8)(((((((([MED5)4)2)7)1)9)6)]))4)9)((((([MED4)2)3)2)]))7)8)8)2)]))5)(((((([SM6)((([MAX1)7)]))4)6)0)]))1)6)]))9)]))4)5)8)7)6)2)4)]))8)0)]))0)7)((((((([MIN0)7)1)9)(((((([MAX7)2)(((((([MAX5)5)((((([MED(((([MED5)((((((([SM2)2)7)1)0)4)]))0)]))5)(((((([MAX0)((((((((((([SM0)9)8)2)9)1)9)5)3)8)]))5)5)7)]))6)]))4)7)]))5)(((((([SM(((((([MED0)8)((([MAX5)2)]))7)6)]))((((([SM4)5)7)(((((((((([SM0)(((([MAX3)6)7)]))(((((((((([MED5)5)2)8)9)6)0)4)2)]))6)7)1)1)8)4)]))]))0)0)3)]))]))4)]))(((((((((([MED(((((((([MIN(((((((([MAX2)((((((([MED0)3)1)8)9)9)]))((([MED9)3)]))8)1)3)9)]))8)4)((((((((((([MED7)(((((((([MED6)(((((([SM(((((((([MAX9)1)0)2)2)1)1)]))2)7)2)((([MED4)4)]))]))3)3)6)((((((((([MAX1)5)2)((((((((((([MED3)7)3)9)8)6)8)3)4)4)]))6)4)9)(((([MIN7)0)9)]))]))5)]))((((((([MIN3)(((((([MAX((((((([SM9)7)7)8)6)3)]))5)((((((((([MAX0)5)6)5)0)5)3)2)]))(((((((((([MIN9)6)9)7)0)3)4)8)4)]))7)]))4)0)5)5)]))0)6)((([MIN9)7)]))7)((((((([MAX2)3)((((((([SM9)8)7)8)(((((([MED5)5)5)0)8)]))2)]))(((([MIN7)(((((((([MED8)9)5)9)2)6)1)]))6)]))5)2)]))7)((((((((((([SM9)7)5)8)1)2)(((((((([MED5)6)(((((((((([MAX8)8)4)7)2)3)5)3)6)]))0)8)((([MIN6)6)]))1)]))7)4)((((([MAX1)2)9)8)]))]))]))4)4)0)]))1)6)9)9)((([MAX8)4)]))((((((((((([MED3)5)5)7)7)7)7)8)6)1)]))1)((((((((([MIN7)(((((((((([MED3)4)2)3)8)((((((((([SM((((((((([SM7)(((((((((([MIN4)8)1)3)3)6)7)6)5)]))3)(((([SM7)0)9)]))(((((((((([MED8)1)3)2)5)4)4)6)7)]))((((((([SM6)3)6)4)6)2)]))9)6)]))5)3)4)9)((((([MIN2)0)2)6)]))8)4)]))6)1)8)]))7)8)(((((([MAX(((([MED9)1)7)]))9)8)3)(((((((((([SM9)((([SM1)((([MIN2)3)]))]))5)1)4)0)((((([MED((((([MAX1)6)8)5)]))9)((((([MED6)0)7)9)]))((((((([MIN7)8)5)1)9)5)]))]))(((((((([SM((((((((([MAX4)0)4)0)1)2)1)7)]))(((([MIN7)0)3)]))3)0)((([MIN6)0)]))0)2)]))6)]))]))7)9)((([MAX9)0)]))]))]))((((((((((([SM4)2)4)6)2)((([SM(((((([SM3)8)3)1)9)]))((((([MIN9)((((((((([SM(((((([MIN1)(((([SM1)8)7)]))5)0)2)]))7)6)0)((((((((((([MIN(((([MAX4)3)2)]))1)6)2)4)5)7)2)7)7)]))(((((((([MAX6)8)8)6)7)((((([SM1)6)7)2)]))3)]))5)0)]))4)7)]))]))2)((((((((((([MED3)8)4)6)1)3)((((((([MIN1)((((((([MIN3)8)((((((([MIN7)(((([MAX1)4)4)]))8)((((((((([SM5)6)1)6)9)3)1)1)]))0)0)]))9)0)4)]))7)7)3)((((([MED((((([SM6)(((((((((([MIN4)0)7)4)5)2)4)9)0)]))2)6)]))((((((((([MIN((([MAX6)4)]))5)3)8)9)4)8)3)]))9)8)]))]))3)((([MED9)7)]))3)]))9)6)]))1)0)]))]))1)8)5)6)])\n",
      "( ( ( ( ( ( ( ( ( ( ( [MIN 3 ) 7 ) ( ( ( ( ( ( ( ( ( ( [MAX ( ( ( [MIN 9 ) 5 ) ] ) ) 4 ) 0 ) 4 ) 1 ) 4 ) 9 ) 8 ) 8 ) ] ) ) 8 ) 2 ) ( ( ( ( ( [MAX 9 ) 7 ) ( ( ( ( ( [MAX 4 ) 9 ) ( ( ( ( ( [SM 6 ) 7 ) 6 ) ( ( ( ( ( ( ( ( ( [SM 8 ) 2 ) 7 ) ( ( ( ( ( ( [MAX 6 ) 5 ) 9 ) 6 ) 2 ) ] ) ) ( ( ( ( ( ( ( ( ( ( ( [MAX 7 ) 0 ) 7 ) 0 ) ( ( ( ( ( ( ( [MED ( ( ( ( ( ( ( [MAX 4 ) 1 ) 6 ) 6 ) ( ( ( [MAX 3 ) 1 ) ] ) ) 9 ) ] ) ) 8 ) 5 ) 7 ) 8 ) 0 ) ] ) ) 9 ) 8 ) 2 ) 0 ) ( ( ( ( ( [MAX 2 ) ( ( ( ( ( ( ( ( ( ( ( [SM 0 ) ( ( ( ( ( ( [MAX 5 ) 6 ) 0 ) 9 ) 6 ) ] ) ) ( ( ( [MED 0 ) 5 ) ] ) ) ( ( ( ( ( ( ( ( ( ( ( [MIN 1 ) 0 ) 3 ) 0 ) 8 ) 1 ) 4 ) 5 ) 9 ) 6 ) ] ) ) 7 ) ( ( ( ( ( ( ( ( [MAX 2 ) 5 ) 8 ) 9 ) 8 ) 7 ) 1 ) ] ) ) 6 ) ( ( ( [MAX 0 ) 5 ) ] ) ) 6 ) 6 ) ] ) ) 9 ) 6 ) ] ) ) ] ) ) 0 ) 9 ) 6 ) ] ) ) ] ) ) 4 ) ] ) ) ( ( ( ( ( ( ( ( ( ( [SM 2 ) ( ( ( ( ( ( ( ( [MED ( ( ( ( ( ( [MIN ( ( ( ( ( ( ( ( ( ( [MED 1 ) 7 ) 1 ) ( ( ( ( ( ( ( ( ( ( ( [MED 6 ) 2 ) 3 ) 2 ) 1 ) 7 ) 6 ) 5 ) ( ( ( ( ( ( ( ( ( ( [SM 4 ) ( ( ( ( ( ( ( ( [MAX 9 ) 1 ) 5 ) 4 ) 7 ) 4 ) 8 ) ] ) ) 3 ) 3 ) ( ( ( ( ( ( ( ( [SM 6 ) 9 ) 9 ) 0 ) 7 ) 6 ) 9 ) ] ) ) 3 ) 9 ) 2 ) 5 ) ] ) ) ( ( ( ( [MAX 0 ) 0 ) 2 ) ] ) ) ] ) ) 8 ) 2 ) 6 ) ( ( ( ( ( ( ( ( ( [MED 1 ) 2 ) ( ( ( ( ( [MAX 8 ) 7 ) 2 ) ( ( ( ( ( ( ( ( ( ( [MAX 7 ) 4 ) 6 ) 9 ) 6 ) 8 ) 6 ) 4 ) 8 ) ] ) ) ] ) ) 0 ) ( ( ( ( ( ( ( ( ( ( ( [SM 1 ) 7 ) 9 ) 9 ) 8 ) ( ( ( ( ( ( ( ( [MAX 8 ) 6 ) 0 ) 7 ) 5 ) 4 ) 8 ) ] ) ) 1 ) 0 ) 7 ) 0 ) ] ) ) 4 ) 1 ) 1 ) ] ) ) 8 ) ] ) ) 7 ) 5 ) 8 ) 9 ) ] ) ) 3 ) ( ( ( ( ( ( ( ( ( ( [MIN ( ( ( ( ( ( ( ( ( ( [MAX ( ( ( ( ( ( ( ( ( [SM 6 ) 8 ) 4 ) 2 ) 8 ) 9 ) 8 ) ( ( ( ( ( ( ( ( ( ( [MAX 8 ) 0 ) 3 ) 3 ) ( ( ( ( ( ( ( ( ( ( [MED 4 ) 6 ) 2 ) 9 ) 7 ) 2 ) 6 ) 4 ) 1 ) ] ) ) ( ( ( [SM 4 ) 2 ) ] ) ) 0 ) 1 ) 6 ) ] ) ) ] ) ) 9 ) 3 ) 2 ) 2 ) 2 ) ( ( ( ( ( ( ( ( [MED ( ( ( ( ( ( [MED ( ( ( ( [MAX 6 ) 7 ) 4 ) ] ) ) 8 ) ( ( ( ( ( ( [MIN 0 ) 9 ) 0 ) 6 ) 8 ) ] ) ) ( ( ( ( ( ( [MIN 8 ) 8 ) 4 ) 2 ) 8 ) ] ) ) ( ( ( ( ( ( ( ( ( ( [MIN 9 ) 2 ) 0 ) 3 ) 4 ) 0 ) 3 ) 6 ) 3 ) ] ) ) ] ) ) 1 ) 5 ) ( ( ( ( ( ( ( [MED 8 ) ( ( ( ( ( ( ( ( ( [SM 5 ) 7 ) 9 ) 7 ) 8 ) 0 ) 2 ) 4 ) ] ) ) ( ( ( ( [MIN 3 ) 6 ) 2 ) ] ) ) ( ( ( ( ( ( ( [SM 5 ) 2 ) 2 ) 5 ) 6 ) 8 ) ] ) ) 7 ) 9 ) ] ) ) 4 ) 7 ) 5 ) ] ) ) 4 ) 5 ) ] ) ) ( ( ( [MIN ( ( ( [MAX 9 ) 8 ) ] ) ) 5 ) ] ) ) 5 ) 4 ) 3 ) 2 ) ( ( ( [MAX 4 ) ( ( ( ( [MAX ( ( ( ( ( ( ( ( ( [MIN 4 ) ( ( ( ( ( ( ( ( ( [MIN 2 ) 4 ) 1 ) 0 ) 6 ) 3 ) 8 ) 4 ) ] ) ) 9 ) ( ( ( ( ( ( ( ( ( ( [MED 0 ) 1 ) 2 ) 1 ) 0 ) 8 ) 2 ) 2 ) 1 ) ] ) ) 5 ) 7 ) ( ( ( ( ( [MIN 3 ) 5 ) 1 ) 6 ) ] ) ) 2 ) ] ) ) 0 ) 9 ) ] ) ) ] ) ) 9 ) ( ( ( ( ( ( ( ( ( ( ( [MED 7 ) 1 ) 3 ) 8 ) 3 ) ( ( ( ( ( ( ( ( ( [MED ( ( ( ( ( ( ( ( ( ( ( [SM ( ( ( ( ( [MAX 5 ) 1 ) 0 ) 7 ) ] ) ) 8 ) 2 ) 5 ) ( ( ( ( ( ( ( [MIN 3 ) 2 ) 8 ) 3 ) 5 ) 0 ) ] ) ) 4 ) ( ( ( ( ( ( [SM 9 ) 4 ) 8 ) 9 ) 2 ) ] ) ) 0 ) 3 ) 3 ) ] ) ) 3 ) 8 ) ( ( ( ( ( ( ( [MIN ( ( ( ( ( ( ( [MED 3 ) 4 ) 7 ) 9 ) 1 ) 5 ) ] ) ) 3 ) 6 ) 2 ) 4 ) 2 ) ] ) ) 1 ) 7 ) ( ( ( ( ( ( ( ( ( ( ( [MED ( ( ( ( ( [MIN 8 ) 2 ) 0 ) 7 ) ] ) ) 4 ) 4 ) 0 ) 9 ) 7 ) 6 ) ( ( ( ( ( ( ( ( ( ( [MED 1 ) 0 ) 8 ) 6 ) 9 ) 5 ) 6 ) 8 ) 5 ) ] ) ) 9 ) ( ( ( ( ( ( [SM 4 ) 9 ) 9 ) 9 ) 5 ) ] ) ) ] ) ) 1 ) ] ) ) 7 ) ( ( ( [MAX 8 ) 6 ) ] ) ) ( ( ( ( [MED 8 ) 2 ) 9 ) ] ) ) ( ( ( ( ( ( ( ( ( ( ( [MED 7 ) 9 ) 2 ) ( ( ( [MAX 7 ) 9 ) ] ) ) 2 ) ( ( ( ( ( ( ( ( ( ( [MIN 3 ) 3 ) ( ( ( ( [MAX 5 ) 9 ) 0 ) ] ) ) ( ( ( ( ( [MAX 9 ) 6 ) 4 ) 3 ) ] ) ) 1 ) ( ( ( ( ( [MAX 4 ) 1 ) 9 ) 2 ) ] ) ) 5 ) 9 ) 5 ) ] ) ) 2 ) 4 ) 0 ) 9 ) ] ) ) ] ) ) ] ) ) ( ( ( ( ( ( ( ( ( [MAX 1 ) ( ( ( ( ( ( ( ( ( ( [MIN 1 ) 1 ) 6 ) 0 ) 1 ) ( ( ( ( ( ( [MED ( ( ( ( ( ( ( ( [MIN 7 ) ( ( ( ( ( ( [MAX 0 ) 8 ) 6 ) 0 ) 2 ) ] ) ) 4 ) ( ( ( ( [MAX 3 ) 0 ) 1 ) ] ) ) 1 ) 4 ) 4 ) ] ) ) 0 ) ( ( ( ( ( ( ( ( ( ( [MED 5 ) 0 ) ( ( ( ( ( ( ( ( ( ( [MED 8 ) 0 ) 2 ) 9 ) 7 ) 2 ) 3 ) 9 ) 5 ) ] ) ) 6 ) 1 ) 4 ) ( ( ( ( ( [SM 1 ) 9 ) 2 ) 2 ) ] ) ) 3 ) 4 ) ] ) ) 1 ) 2 ) ] ) ) 9 ) 2 ) 7 ) ] ) ) 3 ) 0 ) 5 ) 8 ) 4 ) ( ( ( ( ( ( ( ( ( ( [SM 7 ) 6 ) 7 ) ( ( ( ( [MAX 2 ) ( ( ( ( ( ( ( ( ( ( ( [MIN 4 ) 2 ) 3 ) 9 ) 3 ) 1 ) ( ( ( ( ( ( ( ( ( [MAX 2 ) 4 ) 0 ) 6 ) 7 ) 8 ) 7 ) 4 ) ] ) ) 8 ) 4 ) 3 ) ] ) ) 2 ) ] ) ) 1 ) ( ( ( [MED 9 ) 5 ) ] ) ) 5 ) 7 ) 0 ) ] ) ) ] ) ) ( ( ( ( ( ( ( ( ( [MIN ( ( ( [SM ( ( ( ( ( ( [MAX ( ( ( ( ( ( ( ( ( ( ( [MIN ( ( ( ( ( ( ( ( ( [SM 8 ) 0 ) 3 ) 9 ) 9 ) 0 ) 1 ) 7 ) ] ) ) 8 ) ( ( ( ( ( ( ( ( [MED 5 ) 4 ) 2 ) 7 ) 1 ) 9 ) 6 ) ] ) ) 4 ) 9 ) ( ( ( ( ( [MED 4 ) 2 ) 3 ) 2 ) ] ) ) 7 ) 8 ) 8 ) 2 ) ] ) ) 5 ) ( ( ( ( ( ( [SM 6 ) ( ( ( [MAX 1 ) 7 ) ] ) ) 4 ) 6 ) 0 ) ] ) ) 1 ) 6 ) ] ) ) 9 ) ] ) ) 4 ) 5 ) 8 ) 7 ) 6 ) 2 ) 4 ) ] ) ) 8 ) 0 ) ] ) ) 0 ) 7 ) ( ( ( ( ( ( ( [MIN 0 ) 7 ) 1 ) 9 ) ( ( ( ( ( ( [MAX 7 ) 2 ) ( ( ( ( ( ( [MAX 5 ) 5 ) ( ( ( ( ( [MED ( ( ( ( [MED 5 ) ( ( ( ( ( ( ( [SM 2 ) 2 ) 7 ) 1 ) 0 ) 4 ) ] ) ) 0 ) ] ) ) 5 ) ( ( ( ( ( ( [MAX 0 ) ( ( ( ( ( ( ( ( ( ( ( [SM 0 ) 9 ) 8 ) 2 ) 9 ) 1 ) 9 ) 5 ) 3 ) 8 ) ] ) ) 5 ) 5 ) 7 ) ] ) ) 6 ) ] ) ) 4 ) 7 ) ] ) ) 5 ) ( ( ( ( ( ( [SM ( ( ( ( ( ( [MED 0 ) 8 ) ( ( ( [MAX 5 ) 2 ) ] ) ) 7 ) 6 ) ] ) ) ( ( ( ( ( [SM 4 ) 5 ) 7 ) ( ( ( ( ( ( ( ( ( ( [SM 0 ) ( ( ( ( [MAX 3 ) 6 ) 7 ) ] ) ) ( ( ( ( ( ( ( ( ( ( [MED 5 ) 5 ) 2 ) 8 ) 9 ) 6 ) 0 ) 4 ) 2 ) ] ) ) 6 ) 7 ) 1 ) 1 ) 8 ) 4 ) ] ) ) ] ) ) 0 ) 0 ) 3 ) ] ) ) ] ) ) 4 ) ] ) ) ( ( ( ( ( ( ( ( ( ( [MED ( ( ( ( ( ( ( ( [MIN ( ( ( ( ( ( ( ( [MAX 2 ) ( ( ( ( ( ( ( [MED 0 ) 3 ) 1 ) 8 ) 9 ) 9 ) ] ) ) ( ( ( [MED 9 ) 3 ) ] ) ) 8 ) 1 ) 3 ) 9 ) ] ) ) 8 ) 4 ) ( ( ( ( ( ( ( ( ( ( ( [MED 7 ) ( ( ( ( ( ( ( ( [MED 6 ) ( ( ( ( ( ( [SM ( ( ( ( ( ( ( ( [MAX 9 ) 1 ) 0 ) 2 ) 2 ) 1 ) 1 ) ] ) ) 2 ) 7 ) 2 ) ( ( ( [MED 4 ) 4 ) ] ) ) ] ) ) 3 ) 3 ) 6 ) ( ( ( ( ( ( ( ( ( [MAX 1 ) 5 ) 2 ) ( ( ( ( ( ( ( ( ( ( ( [MED 3 ) 7 ) 3 ) 9 ) 8 ) 6 ) 8 ) 3 ) 4 ) 4 ) ] ) ) 6 ) 4 ) 9 ) ( ( ( ( [MIN 7 ) 0 ) 9 ) ] ) ) ] ) ) 5 ) ] ) ) ( ( ( ( ( ( ( [MIN 3 ) ( ( ( ( ( ( [MAX ( ( ( ( ( ( ( [SM 9 ) 7 ) 7 ) 8 ) 6 ) 3 ) ] ) ) 5 ) ( ( ( ( ( ( ( ( ( [MAX 0 ) 5 ) 6 ) 5 ) 0 ) 5 ) 3 ) 2 ) ] ) ) ( ( ( ( ( ( ( ( ( ( [MIN 9 ) 6 ) 9 ) 7 ) 0 ) 3 ) 4 ) 8 ) 4 ) ] ) ) 7 ) ] ) ) 4 ) 0 ) 5 ) 5 ) ] ) ) 0 ) 6 ) ( ( ( [MIN 9 ) 7 ) ] ) ) 7 ) ( ( ( ( ( ( ( [MAX 2 ) 3 ) ( ( ( ( ( ( ( [SM 9 ) 8 ) 7 ) 8 ) ( ( ( ( ( ( [MED 5 ) 5 ) 5 ) 0 ) 8 ) ] ) ) 2 ) ] ) ) ( ( ( ( [MIN 7 ) ( ( ( ( ( ( ( ( [MED 8 ) 9 ) 5 ) 9 ) 2 ) 6 ) 1 ) ] ) ) 6 ) ] ) ) 5 ) 2 ) ] ) ) 7 ) ( ( ( ( ( ( ( ( ( ( ( [SM 9 ) 7 ) 5 ) 8 ) 1 ) 2 ) ( ( ( ( ( ( ( ( [MED 5 ) 6 ) ( ( ( ( ( ( ( ( ( ( [MAX 8 ) 8 ) 4 ) 7 ) 2 ) 3 ) 5 ) 3 ) 6 ) ] ) ) 0 ) 8 ) ( ( ( [MIN 6 ) 6 ) ] ) ) 1 ) ] ) ) 7 ) 4 ) ( ( ( ( ( [MAX 1 ) 2 ) 9 ) 8 ) ] ) ) ] ) ) ] ) ) 4 ) 4 ) 0 ) ] ) ) 1 ) 6 ) 9 ) 9 ) ( ( ( [MAX 8 ) 4 ) ] ) ) ( ( ( ( ( ( ( ( ( ( ( [MED 3 ) 5 ) 5 ) 7 ) 7 ) 7 ) 7 ) 8 ) 6 ) 1 ) ] ) ) 1 ) ( ( ( ( ( ( ( ( ( [MIN 7 ) ( ( ( ( ( ( ( ( ( ( [MED 3 ) 4 ) 2 ) 3 ) 8 ) ( ( ( ( ( ( ( ( ( [SM ( ( ( ( ( ( ( ( ( [SM 7 ) ( ( ( ( ( ( ( ( ( ( [MIN 4 ) 8 ) 1 ) 3 ) 3 ) 6 ) 7 ) 6 ) 5 ) ] ) ) 3 ) ( ( ( ( [SM 7 ) 0 ) 9 ) ] ) ) ( ( ( ( ( ( ( ( ( ( [MED 8 ) 1 ) 3 ) 2 ) 5 ) 4 ) 4 ) 6 ) 7 ) ] ) ) ( ( ( ( ( ( ( [SM 6 ) 3 ) 6 ) 4 ) 6 ) 2 ) ] ) ) 9 ) 6 ) ] ) ) 5 ) 3 ) 4 ) 9 ) ( ( ( ( ( [MIN 2 ) 0 ) 2 ) 6 ) ] ) ) 8 ) 4 ) ] ) ) 6 ) 1 ) 8 ) ] ) ) 7 ) 8 ) ( ( ( ( ( ( [MAX ( ( ( ( [MED 9 ) 1 ) 7 ) ] ) ) 9 ) 8 ) 3 ) ( ( ( ( ( ( ( ( ( ( [SM 9 ) ( ( ( [SM 1 ) ( ( ( [MIN 2 ) 3 ) ] ) ) ] ) ) 5 ) 1 ) 4 ) 0 ) ( ( ( ( ( [MED ( ( ( ( ( [MAX 1 ) 6 ) 8 ) 5 ) ] ) ) 9 ) ( ( ( ( ( [MED 6 ) 0 ) 7 ) 9 ) ] ) ) ( ( ( ( ( ( ( [MIN 7 ) 8 ) 5 ) 1 ) 9 ) 5 ) ] ) ) ] ) ) ( ( ( ( ( ( ( ( [SM ( ( ( ( ( ( ( ( ( [MAX 4 ) 0 ) 4 ) 0 ) 1 ) 2 ) 1 ) 7 ) ] ) ) ( ( ( ( [MIN 7 ) 0 ) 3 ) ] ) ) 3 ) 0 ) ( ( ( [MIN 6 ) 0 ) ] ) ) 0 ) 2 ) ] ) ) 6 ) ] ) ) ] ) ) 7 ) 9 ) ( ( ( [MAX 9 ) 0 ) ] ) ) ] ) ) ] ) ) ( ( ( ( ( ( ( ( ( ( ( [SM 4 ) 2 ) 4 ) 6 ) 2 ) ( ( ( [SM ( ( ( ( ( ( [SM 3 ) 8 ) 3 ) 1 ) 9 ) ] ) ) ( ( ( ( ( [MIN 9 ) ( ( ( ( ( ( ( ( ( [SM ( ( ( ( ( ( [MIN 1 ) ( ( ( ( [SM 1 ) 8 ) 7 ) ] ) ) 5 ) 0 ) 2 ) ] ) ) 7 ) 6 ) 0 ) ( ( ( ( ( ( ( ( ( ( ( [MIN ( ( ( ( [MAX 4 ) 3 ) 2 ) ] ) ) 1 ) 6 ) 2 ) 4 ) 5 ) 7 ) 2 ) 7 ) 7 ) ] ) ) ( ( ( ( ( ( ( ( [MAX 6 ) 8 ) 8 ) 6 ) 7 ) ( ( ( ( ( [SM 1 ) 6 ) 7 ) 2 ) ] ) ) 3 ) ] ) ) 5 ) 0 ) ] ) ) 4 ) 7 ) ] ) ) ] ) ) 2 ) ( ( ( ( ( ( ( ( ( ( ( [MED 3 ) 8 ) 4 ) 6 ) 1 ) 3 ) ( ( ( ( ( ( ( [MIN 1 ) ( ( ( ( ( ( ( [MIN 3 ) 8 ) ( ( ( ( ( ( ( [MIN 7 ) ( ( ( ( [MAX 1 ) 4 ) 4 ) ] ) ) 8 ) ( ( ( ( ( ( ( ( ( [SM 5 ) 6 ) 1 ) 6 ) 9 ) 3 ) 1 ) 1 ) ] ) ) 0 ) 0 ) ] ) ) 9 ) 0 ) 4 ) ] ) ) 7 ) 7 ) 3 ) ( ( ( ( ( [MED ( ( ( ( ( [SM 6 ) ( ( ( ( ( ( ( ( ( ( [MIN 4 ) 0 ) 7 ) 4 ) 5 ) 2 ) 4 ) 9 ) 0 ) ] ) ) 2 ) 6 ) ] ) ) ( ( ( ( ( ( ( ( ( [MIN ( ( ( [MAX 6 ) 4 ) ] ) ) 5 ) 3 ) 8 ) 9 ) 4 ) 8 ) 3 ) ] ) ) 9 ) 8 ) ] ) ) ] ) ) 3 ) ( ( ( [MED 9 ) 7 ) ] ) ) 3 ) ] ) ) 9 ) 6 ) ] ) ) 1 ) 0 ) ] ) ) ] ) ) 1 ) 8 ) 5 ) 6 ) ] )\n"
     ]
    }
   ],
   "source": [
    "print((df.head()['Source'][0]))\n",
    "print((df_base.head()['Source'][0]))\n"
   ]
  },
  {
   "cell_type": "code",
   "execution_count": null,
   "metadata": {
    "id": "Kb4JiBjHtwRd"
   },
   "outputs": [],
   "source": [
    "\n",
    "#---- chatgpt code\n",
    "def preprocess_data_for_inference(examples):\n",
    "    return tokenizer(\n",
    "        examples['Source'],\n",
    "        padding='max_length',\n",
    "        max_length=4096\n",
    "    \n",
    "    )\n",
    "\n",
    "encoded_dataset = dataset.map(preprocess_data_for_inference, batched=True)\n",
    "#---- chatgpt code\n"
   ]
  },
  {
   "cell_type": "code",
   "execution_count": null,
   "metadata": {
    "colab": {
     "base_uri": "https://localhost:8080/",
     "height": 176
    },
    "id": "KFmVQBrcSN-5",
    "outputId": "49c4a532-ef50-4010-ef72-f592ee41a7fd"
   },
   "outputs": [
    {
     "ename": "NameError",
     "evalue": "name 'encoded_dataset' is not defined",
     "output_type": "error",
     "traceback": [
      "\u001b[0;31m---------------------------------------------------------------------------\u001b[0m",
      "\u001b[0;31mNameError\u001b[0m                                 Traceback (most recent call last)",
      "\u001b[0;32m<ipython-input-3-34d5de2f21fc>\u001b[0m in \u001b[0;36m<cell line: 3>\u001b[0;34m()\u001b[0m\n\u001b[1;32m      1\u001b[0m \u001b[0mlabel_mapping\u001b[0m \u001b[0;34m=\u001b[0m \u001b[0;34m{\u001b[0m\u001b[0mlabel\u001b[0m\u001b[0;34m:\u001b[0m \u001b[0midx\u001b[0m \u001b[0;32mfor\u001b[0m \u001b[0midx\u001b[0m\u001b[0;34m,\u001b[0m \u001b[0mlabel\u001b[0m \u001b[0;32min\u001b[0m \u001b[0menumerate\u001b[0m\u001b[0;34m(\u001b[0m\u001b[0msorted\u001b[0m\u001b[0;34m(\u001b[0m\u001b[0mdf\u001b[0m\u001b[0;34m[\u001b[0m\u001b[0;34m'Target'\u001b[0m\u001b[0;34m]\u001b[0m\u001b[0;34m.\u001b[0m\u001b[0munique\u001b[0m\u001b[0;34m(\u001b[0m\u001b[0;34m)\u001b[0m\u001b[0;34m)\u001b[0m\u001b[0;34m)\u001b[0m\u001b[0;34m}\u001b[0m\u001b[0;34m\u001b[0m\u001b[0;34m\u001b[0m\u001b[0m\n\u001b[1;32m      2\u001b[0m \u001b[0mdf\u001b[0m\u001b[0;34m[\u001b[0m\u001b[0;34m'Target'\u001b[0m\u001b[0;34m]\u001b[0m \u001b[0;34m=\u001b[0m \u001b[0mdf\u001b[0m\u001b[0;34m[\u001b[0m\u001b[0;34m'Target'\u001b[0m\u001b[0;34m]\u001b[0m\u001b[0;34m.\u001b[0m\u001b[0mmap\u001b[0m\u001b[0;34m(\u001b[0m\u001b[0mlabel_mapping\u001b[0m\u001b[0;34m)\u001b[0m\u001b[0;34m\u001b[0m\u001b[0;34m\u001b[0m\u001b[0m\n\u001b[0;32m----> 3\u001b[0;31m \u001b[0mprint\u001b[0m\u001b[0;34m(\u001b[0m\u001b[0mencoded_dataset\u001b[0m\u001b[0;34m.\u001b[0m\u001b[0mfeatures\u001b[0m\u001b[0;34m)\u001b[0m\u001b[0;34m\u001b[0m\u001b[0;34m\u001b[0m\u001b[0m\n\u001b[0m",
      "\u001b[0;31mNameError\u001b[0m: name 'encoded_dataset' is not defined"
     ]
    }
   ],
   "source": [
    "label_mapping = {label: idx for idx, label in enumerate(sorted(df['Target'].unique()))}\n",
    "df['Target'] = df['Target'].map(label_mapping)\n",
    "print(encoded_dataset.features)\n"
   ]
  },
  {
   "cell_type": "code",
   "execution_count": null,
   "metadata": {
    "colab": {
     "base_uri": "https://localhost:8080/"
    },
    "id": "GqgMTkrxQ2qZ",
    "outputId": "b36cbf51-9159-481b-967e-3b0de1e58f46"
   },
   "outputs": [
    {
     "name": "stderr",
     "output_type": "stream",
     "text": [
      "Some weights of LongformerForSequenceClassification were not initialized from the model checkpoint at allenai/longformer-base-4096 and are newly initialized: ['classifier.dense.bias', 'classifier.dense.weight', 'classifier.out_proj.bias', 'classifier.out_proj.weight']\n",
      "You should probably TRAIN this model on a down-stream task to be able to use it for predictions and inference.\n"
     ]
    }
   ],
   "source": [
    "from transformers import LongformerForSequenceClassification\n",
    "\n",
    "\n",
    "num_labels = len(label_mapping)\n",
    "model = LongformerForSequenceClassification.from_pretrained(\n",
    "    'allenai/longformer-base-4096',\n",
    "    num_labels=num_labels\n",
    ")\n",
    "\n"
   ]
  },
  {
   "cell_type": "code",
   "execution_count": null,
   "metadata": {
    "colab": {
     "base_uri": "https://localhost:8080/"
    },
    "id": "cRZH2E8oQuRI",
    "outputId": "5ef4f460-877c-49c7-972d-2a5395c69907"
   },
   "outputs": [
    {
     "name": "stderr",
     "output_type": "stream",
     "text": [
      "/usr/local/lib/python3.10/dist-packages/transformers/training_args.py:1568: FutureWarning: `evaluation_strategy` is deprecated and will be removed in version 4.46 of 🤗 Transformers. Use `eval_strategy` instead\n",
      "  warnings.warn(\n"
     ]
    }
   ],
   "source": [
    "from transformers import TrainingArguments\n",
    "#---- chatgpt code\n",
    "training_args = TrainingArguments(\n",
    "    output_dir='./results',       \n",
    "    evaluation_strategy=\"epoch\", \n",
    "    learning_rate=5e-5,         \n",
    "    per_device_train_batch_size=32,\n",
    "    per_device_eval_batch_size=32,\n",
    "    num_train_epochs=3,\n",
    "    weight_decay=0.01,\n",
    "    save_strategy=\"epoch\",        \n",
    "    save_total_limit=2,          \n",
    "    load_best_model_at_end=True, \n",
    "    logging_dir='./logs',       \n",
    "    logging_steps=10,\n",
    "    fp16=True,\n",
    "    report_to=\"none\"\n",
    ")\n",
    "#---- chatgpt code\n"
   ]
  },
  {
   "cell_type": "code",
   "execution_count": null,
   "metadata": {
    "id": "dxxdAOnVRiSU"
   },
   "outputs": [],
   "source": [
    "from transformers import DataCollatorWithPadding\n",
    "\n",
    "\n",
    "data_collator = DataCollatorWithPadding(tokenizer=tokenizer, return_tensors=\"pt\")\n",
    "\n"
   ]
  },
  {
   "cell_type": "code",
   "execution_count": null,
   "metadata": {
    "colab": {
     "base_uri": "https://localhost:8080/"
    },
    "id": "wqe-P2pARkut",
    "outputId": "208f3b62-0cd1-4aa4-b811-b9b65da6cde5"
   },
   "outputs": [
    {
     "name": "stderr",
     "output_type": "stream",
     "text": [
      "<ipython-input-19-a5113f9b8f72>:3: FutureWarning: `tokenizer` is deprecated and will be removed in version 5.0.0 for `Trainer.__init__`. Use `processing_class` instead.\n",
      "  trainer = Trainer(\n"
     ]
    }
   ],
   "source": [
    "from transformers import Trainer\n",
    "\n",
    "trainer = Trainer(\n",
    "    model=model,\n",
    "    args=training_args,\n",
    "    train_dataset=train_dataset,\n",
    "    eval_dataset=test_dataset,\n",
    "    tokenizer=tokenizer,\n",
    "    data_collator=data_collator,\n",
    ")\n"
   ]
  },
  {
   "cell_type": "code",
   "execution_count": null,
   "metadata": {
    "colab": {
     "base_uri": "https://localhost:8080/",
     "height": 221
    },
    "id": "74WKlg7LRmsM",
    "outputId": "8ffe4057-109d-4716-d044-054038662faa"
   },
   "outputs": [
    {
     "data": {
      "text/html": [
       "\n",
       "    <div>\n",
       "      \n",
       "      <progress value='600' max='600' style='width:300px; height:20px; vertical-align: middle;'></progress>\n",
       "      [600/600 1:22:43, Epoch 3/3]\n",
       "    </div>\n",
       "    <table border=\"1\" class=\"dataframe\">\n",
       "  <thead>\n",
       " <tr style=\"text-align: left;\">\n",
       "      <th>Epoch</th>\n",
       "      <th>Training Loss</th>\n",
       "      <th>Validation Loss</th>\n",
       "    </tr>\n",
       "  </thead>\n",
       "  <tbody>\n",
       "    <tr>\n",
       "      <td>1</td>\n",
       "      <td>2.225000</td>\n",
       "      <td>2.230801</td>\n",
       "    </tr>\n",
       "    <tr>\n",
       "      <td>2</td>\n",
       "      <td>2.199600</td>\n",
       "      <td>2.222827</td>\n",
       "    </tr>\n",
       "    <tr>\n",
       "      <td>3</td>\n",
       "      <td>2.297600</td>\n",
       "      <td>2.223965</td>\n",
       "    </tr>\n",
       "  </tbody>\n",
       "</table><p>"
      ],
      "text/plain": [
       "<IPython.core.display.HTML object>"
      ]
     },
     "metadata": {},
     "output_type": "display_data"
    },
    {
     "data": {
      "text/plain": [
       "TrainOutput(global_step=600, training_loss=2.245191650390625, metrics={'train_runtime': 4970.7246, 'train_samples_per_second': 0.966, 'train_steps_per_second': 0.121, 'total_flos': 1.26122766630912e+16, 'train_loss': 2.245191650390625, 'epoch': 3.0})"
      ]
     },
     "execution_count": 20,
     "metadata": {},
     "output_type": "execute_result"
    }
   ],
   "source": [
    "# Train the model\n",
    "trainer.train()\n"
   ]
  },
  {
   "cell_type": "code",
   "execution_count": null,
   "metadata": {
    "colab": {
     "base_uri": "https://localhost:8080/",
     "height": 74
    },
    "id": "fXUc2uj-knAZ",
    "outputId": "6a748b45-9bfb-452f-d9e3-1360372b6d7a"
   },
   "outputs": [
    {
     "data": {
      "text/html": [
       "\n",
       "    <div>\n",
       "      \n",
       "      <progress value='200' max='200' style='width:300px; height:20px; vertical-align: middle;'></progress>\n",
       "      [200/200 03:29]\n",
       "    </div>\n",
       "    "
      ],
      "text/plain": [
       "<IPython.core.display.HTML object>"
      ]
     },
     "metadata": {},
     "output_type": "display_data"
    },
    {
     "name": "stdout",
     "output_type": "stream",
     "text": [
      "{'eval_loss': 2.222827196121216, 'eval_runtime': 211.0878, 'eval_samples_per_second': 1.895, 'eval_steps_per_second': 0.947, 'epoch': 3.0}\n"
     ]
    }
   ],
   "source": [
    "\n",
    "metrics = trainer.evaluate()\n",
    "print(metrics)\n"
   ]
  },
  {
   "cell_type": "code",
   "execution_count": null,
   "metadata": {
    "colab": {
     "base_uri": "https://localhost:8080/"
    },
    "id": "R7P7V7S0kx9t",
    "outputId": "abea4af4-bd21-4298-bc8f-70adf845d084"
   },
   "outputs": [
    {
     "data": {
      "text/plain": [
       "('/content/drive/My Drive/longformer_listops_model/tokenizer_config.json',\n",
       " '/content/drive/My Drive/longformer_listops_model/special_tokens_map.json',\n",
       " '/content/drive/My Drive/longformer_listops_model/vocab.json',\n",
       " '/content/drive/My Drive/longformer_listops_model/merges.txt',\n",
       " '/content/drive/My Drive/longformer_listops_model/added_tokens.json')"
      ]
     },
     "execution_count": 22,
     "metadata": {},
     "output_type": "execute_result"
    }
   ],
   "source": [
    "\n",
    "model.save_pretrained(\"/content/drive/My Drive/longformer_listops_model\")\n",
    "tokenizer.save_pretrained(\"/content/drive/My Drive/longformer_listops_model\")\n"
   ]
  },
  {
   "cell_type": "code",
   "execution_count": null,
   "metadata": {
    "colab": {
     "base_uri": "https://localhost:8080/"
    },
    "id": "TdHVL9v8q8mM",
    "outputId": "064f12fa-5158-4de7-83c1-acd83b2a6ac5"
   },
   "outputs": [
    {
     "name": "stdout",
     "output_type": "stream",
     "text": [
      "                                              Source  Target\n",
      "0  ( ( ( ( ( ( ( ( ( ( ( [MIN 3 ) 7 ) ( ( ( ( ( (...       1\n",
      "1  ( ( ( ( ( [SM 3 ) 5 ) ( ( ( ( ( ( [MAX 4 ) ( (...       5\n",
      "2  ( ( ( ( ( ( ( [MED ( ( ( [MIN ( ( ( ( ( ( ( ( ...       5\n",
      "3  ( ( ( ( ( ( ( ( ( ( ( [MAX ( ( ( ( ( ( ( ( [ME...       9\n",
      "4  ( ( ( ( ( ( ( ( ( ( ( [SM ( ( ( [SM 4 ) 8 ) ] ...       5\n"
     ]
    }
   ],
   "source": []
  },
  {
   "cell_type": "code",
   "execution_count": null,
   "metadata": {
    "id": "8apHc7vdrn93"
   },
   "outputs": [],
   "source": [
    "import pandas as pd\n",
    "from datasets import Dataset\n",
    "from transformers import LongformerForSequenceClassification, LongformerTokenizer\n",
    "import torch\n",
    "\n",
    "model_path = \"/content/drive/My Drive/longformer_listops_model\"\n",
    "model = LongformerForSequenceClassification.from_pretrained(model_path).to('cuda') \n",
    "tokenizer = LongformerTokenizer.from_pretrained(model_path)\n",
    "\n",
    "dataset_path = \"/content/drive/My Drive/listops/basic_train.tsv\"  \n",
    "df = pd.read_csv(dataset_path, sep='\\t') \n",
    "print(df.head())"
   ]
  },
  {
   "cell_type": "code",
   "execution_count": null,
   "metadata": {
    "colab": {
     "base_uri": "https://localhost:8080/",
     "height": 639,
     "referenced_widgets": [
      "f9cfa434ebbe43aab009ab3c09d5d034",
      "fac30e6bfc3f45e19976e60c178ad599",
      "6d374289030b4812a266cb898a1d2792",
      "3af980d46cc14d468b8a79645f85fc3a",
      "e3e997e477df41ba8d3b705d484ce777",
      "b5292b772a354d53afe024c9ac72fddc",
      "7da055ca443b468b8e1fbe6eca779029",
      "83e8335276834cae868f76f6c1988a6d",
      "7daeb1f83ab1412b910646f84993b0e5",
      "13ce276ec88d468681aa4735629bcd59",
      "87d7d0cc869c478989aeb1778e82244f"
     ]
    },
    "id": "cjLNdMDSn5ji",
    "outputId": "abbfd0a1-47fa-4b84-a41e-a47e78085800"
   },
   "outputs": [
    {
     "data": {
      "application/vnd.jupyter.widget-view+json": {
       "model_id": "f9cfa434ebbe43aab009ab3c09d5d034",
       "version_major": 2,
       "version_minor": 0
      },
      "text/plain": [
       "Map:   0%|          | 0/10 [00:00<?, ? examples/s]"
      ]
     },
     "metadata": {},
     "output_type": "display_data"
    },
    {
     "name": "stdout",
     "output_type": "stream",
     "text": [
      "Dataset({\n",
      "    features: ['Source', 'Target', 'input_ids', 'attention_mask'],\n",
      "    num_rows: 10\n",
      "})\n",
      "tensor([[ 0.6879, -0.0994, -0.3267, -0.3459,  0.0540, -0.1160, -0.1382, -0.1948,\n",
      "         -0.2868,  0.6062]], device='cuda:0')\n",
      "tensor([[ 0.6879, -0.0994, -0.3267, -0.3459,  0.0540, -0.1160, -0.1382, -0.1948,\n",
      "         -0.2868,  0.6061]], device='cuda:0')\n",
      "tensor([[ 0.6879, -0.0994, -0.3267, -0.3459,  0.0540, -0.1160, -0.1382, -0.1948,\n",
      "         -0.2868,  0.6061]], device='cuda:0')\n",
      "tensor([[ 0.6879, -0.0994, -0.3267, -0.3459,  0.0540, -0.1160, -0.1382, -0.1948,\n",
      "         -0.2868,  0.6062]], device='cuda:0')\n",
      "tensor([[ 0.6879, -0.0994, -0.3267, -0.3459,  0.0540, -0.1160, -0.1382, -0.1948,\n",
      "         -0.2868,  0.6062]], device='cuda:0')\n",
      "tensor([[ 0.6879, -0.0994, -0.3267, -0.3459,  0.0540, -0.1160, -0.1382, -0.1948,\n",
      "         -0.2868,  0.6061]], device='cuda:0')\n",
      "tensor([[ 0.6879, -0.0994, -0.3267, -0.3459,  0.0540, -0.1160, -0.1382, -0.1948,\n",
      "         -0.2868,  0.6061]], device='cuda:0')\n",
      "tensor([[ 0.6879, -0.0994, -0.3267, -0.3459,  0.0540, -0.1160, -0.1382, -0.1948,\n",
      "         -0.2868,  0.6062]], device='cuda:0')\n",
      "tensor([[ 0.6879, -0.0994, -0.3267, -0.3459,  0.0540, -0.1160, -0.1382, -0.1948,\n",
      "         -0.2868,  0.6062]], device='cuda:0')\n",
      "tensor([[ 0.6879, -0.0994, -0.3267, -0.3459,  0.0540, -0.1160, -0.1382, -0.1948,\n",
      "         -0.2868,  0.6061]], device='cuda:0')\n",
      "Ground Truth: 1, Prediction: 0\n",
      "Ground Truth: 5, Prediction: 0\n",
      "Ground Truth: 5, Prediction: 0\n",
      "Ground Truth: 9, Prediction: 0\n",
      "Ground Truth: 5, Prediction: 0\n",
      "Ground Truth: 1, Prediction: 0\n",
      "Ground Truth: 8, Prediction: 0\n",
      "Ground Truth: 3, Prediction: 0\n",
      "Ground Truth: 9, Prediction: 0\n",
      "Ground Truth: 6, Prediction: 0\n"
     ]
    }
   ],
   "source": [
    "\n",
    "df_truncated = df.head(10) \n",
    "\n",
    "\n",
    "\n",
    "dataset = Dataset.from_pandas(df_truncated)\n",
    "\n",
    "def preprocess_data_for_inference(examples):\n",
    "    return tokenizer(\n",
    "        examples['Source'],\n",
    "        truncation=True,\n",
    "        padding='max_length',\n",
    "        max_length=4096\n",
    "    )\n",
    "\n",
    "processed_dataset = dataset.map(preprocess_data_for_inference, batched=True)\n",
    "\n",
    "processed_dataset.set_format(type=\"torch\", columns=[\"input_ids\", \"attention_mask\"])\n",
    "print(processed_dataset)\n",
    "\n",
    "data_loader = torch.utils.data.DataLoader(\n",
    "    processed_dataset,\n",
    "    batch_size=1,\n",
    ")\n",
    "\n",
    "model.eval()\n",
    "\n",
    "all_predictions = []\n",
    "\n",
    "for batch in data_loader:\n",
    "    input_ids = batch['input_ids'].to('cuda')\n",
    "    attention_mask = batch['attention_mask'].to('cuda')\n",
    "    with torch.no_grad():\n",
    "        outputs = model(input_ids=input_ids, attention_mask=attention_mask)\n",
    "        logits = outputs.logits\n",
    "        print(logits)\n",
    "        predictions = torch.argmax(logits, dim=-1)\n",
    "\n",
    "    all_predictions.extend(predictions.cpu().numpy())\n",
    "\n",
    "for i in range(len(all_predictions)):\n",
    "    print(f\"Ground Truth: {df_truncated['Target'].iloc[i]}, Prediction: {all_predictions[i]}\")\n"
   ]
  }
 ],
 "metadata": {
  "accelerator": "GPU",
  "colab": {
   "gpuType": "T4",
   "provenance": []
  },
  "kernelspec": {
   "display_name": "Python 3",
   "name": "python3"
  },
  "language_info": {
   "name": "python"
  },
  "widgets": {
   "application/vnd.jupyter.widget-state+json": {
    "13ce276ec88d468681aa4735629bcd59": {
     "model_module": "@jupyter-widgets/base",
     "model_module_version": "1.2.0",
     "model_name": "LayoutModel",
     "state": {
      "_model_module": "@jupyter-widgets/base",
      "_model_module_version": "1.2.0",
      "_model_name": "LayoutModel",
      "_view_count": null,
      "_view_module": "@jupyter-widgets/base",
      "_view_module_version": "1.2.0",
      "_view_name": "LayoutView",
      "align_content": null,
      "align_items": null,
      "align_self": null,
      "border": null,
      "bottom": null,
      "display": null,
      "flex": null,
      "flex_flow": null,
      "grid_area": null,
      "grid_auto_columns": null,
      "grid_auto_flow": null,
      "grid_auto_rows": null,
      "grid_column": null,
      "grid_gap": null,
      "grid_row": null,
      "grid_template_areas": null,
      "grid_template_columns": null,
      "grid_template_rows": null,
      "height": null,
      "justify_content": null,
      "justify_items": null,
      "left": null,
      "margin": null,
      "max_height": null,
      "max_width": null,
      "min_height": null,
      "min_width": null,
      "object_fit": null,
      "object_position": null,
      "order": null,
      "overflow": null,
      "overflow_x": null,
      "overflow_y": null,
      "padding": null,
      "right": null,
      "top": null,
      "visibility": null,
      "width": null
     }
    },
    "3af980d46cc14d468b8a79645f85fc3a": {
     "model_module": "@jupyter-widgets/controls",
     "model_module_version": "1.5.0",
     "model_name": "HTMLModel",
     "state": {
      "_dom_classes": [],
      "_model_module": "@jupyter-widgets/controls",
      "_model_module_version": "1.5.0",
      "_model_name": "HTMLModel",
      "_view_count": null,
      "_view_module": "@jupyter-widgets/controls",
      "_view_module_version": "1.5.0",
      "_view_name": "HTMLView",
      "description": "",
      "description_tooltip": null,
      "layout": "IPY_MODEL_13ce276ec88d468681aa4735629bcd59",
      "placeholder": "​",
      "style": "IPY_MODEL_87d7d0cc869c478989aeb1778e82244f",
      "value": " 10/10 [00:00&lt;00:00, 34.06 examples/s]"
     }
    },
    "6d374289030b4812a266cb898a1d2792": {
     "model_module": "@jupyter-widgets/controls",
     "model_module_version": "1.5.0",
     "model_name": "FloatProgressModel",
     "state": {
      "_dom_classes": [],
      "_model_module": "@jupyter-widgets/controls",
      "_model_module_version": "1.5.0",
      "_model_name": "FloatProgressModel",
      "_view_count": null,
      "_view_module": "@jupyter-widgets/controls",
      "_view_module_version": "1.5.0",
      "_view_name": "ProgressView",
      "bar_style": "success",
      "description": "",
      "description_tooltip": null,
      "layout": "IPY_MODEL_83e8335276834cae868f76f6c1988a6d",
      "max": 10,
      "min": 0,
      "orientation": "horizontal",
      "style": "IPY_MODEL_7daeb1f83ab1412b910646f84993b0e5",
      "value": 10
     }
    },
    "7da055ca443b468b8e1fbe6eca779029": {
     "model_module": "@jupyter-widgets/controls",
     "model_module_version": "1.5.0",
     "model_name": "DescriptionStyleModel",
     "state": {
      "_model_module": "@jupyter-widgets/controls",
      "_model_module_version": "1.5.0",
      "_model_name": "DescriptionStyleModel",
      "_view_count": null,
      "_view_module": "@jupyter-widgets/base",
      "_view_module_version": "1.2.0",
      "_view_name": "StyleView",
      "description_width": ""
     }
    },
    "7daeb1f83ab1412b910646f84993b0e5": {
     "model_module": "@jupyter-widgets/controls",
     "model_module_version": "1.5.0",
     "model_name": "ProgressStyleModel",
     "state": {
      "_model_module": "@jupyter-widgets/controls",
      "_model_module_version": "1.5.0",
      "_model_name": "ProgressStyleModel",
      "_view_count": null,
      "_view_module": "@jupyter-widgets/base",
      "_view_module_version": "1.2.0",
      "_view_name": "StyleView",
      "bar_color": null,
      "description_width": ""
     }
    },
    "83e8335276834cae868f76f6c1988a6d": {
     "model_module": "@jupyter-widgets/base",
     "model_module_version": "1.2.0",
     "model_name": "LayoutModel",
     "state": {
      "_model_module": "@jupyter-widgets/base",
      "_model_module_version": "1.2.0",
      "_model_name": "LayoutModel",
      "_view_count": null,
      "_view_module": "@jupyter-widgets/base",
      "_view_module_version": "1.2.0",
      "_view_name": "LayoutView",
      "align_content": null,
      "align_items": null,
      "align_self": null,
      "border": null,
      "bottom": null,
      "display": null,
      "flex": null,
      "flex_flow": null,
      "grid_area": null,
      "grid_auto_columns": null,
      "grid_auto_flow": null,
      "grid_auto_rows": null,
      "grid_column": null,
      "grid_gap": null,
      "grid_row": null,
      "grid_template_areas": null,
      "grid_template_columns": null,
      "grid_template_rows": null,
      "height": null,
      "justify_content": null,
      "justify_items": null,
      "left": null,
      "margin": null,
      "max_height": null,
      "max_width": null,
      "min_height": null,
      "min_width": null,
      "object_fit": null,
      "object_position": null,
      "order": null,
      "overflow": null,
      "overflow_x": null,
      "overflow_y": null,
      "padding": null,
      "right": null,
      "top": null,
      "visibility": null,
      "width": null
     }
    },
    "87d7d0cc869c478989aeb1778e82244f": {
     "model_module": "@jupyter-widgets/controls",
     "model_module_version": "1.5.0",
     "model_name": "DescriptionStyleModel",
     "state": {
      "_model_module": "@jupyter-widgets/controls",
      "_model_module_version": "1.5.0",
      "_model_name": "DescriptionStyleModel",
      "_view_count": null,
      "_view_module": "@jupyter-widgets/base",
      "_view_module_version": "1.2.0",
      "_view_name": "StyleView",
      "description_width": ""
     }
    },
    "b5292b772a354d53afe024c9ac72fddc": {
     "model_module": "@jupyter-widgets/base",
     "model_module_version": "1.2.0",
     "model_name": "LayoutModel",
     "state": {
      "_model_module": "@jupyter-widgets/base",
      "_model_module_version": "1.2.0",
      "_model_name": "LayoutModel",
      "_view_count": null,
      "_view_module": "@jupyter-widgets/base",
      "_view_module_version": "1.2.0",
      "_view_name": "LayoutView",
      "align_content": null,
      "align_items": null,
      "align_self": null,
      "border": null,
      "bottom": null,
      "display": null,
      "flex": null,
      "flex_flow": null,
      "grid_area": null,
      "grid_auto_columns": null,
      "grid_auto_flow": null,
      "grid_auto_rows": null,
      "grid_column": null,
      "grid_gap": null,
      "grid_row": null,
      "grid_template_areas": null,
      "grid_template_columns": null,
      "grid_template_rows": null,
      "height": null,
      "justify_content": null,
      "justify_items": null,
      "left": null,
      "margin": null,
      "max_height": null,
      "max_width": null,
      "min_height": null,
      "min_width": null,
      "object_fit": null,
      "object_position": null,
      "order": null,
      "overflow": null,
      "overflow_x": null,
      "overflow_y": null,
      "padding": null,
      "right": null,
      "top": null,
      "visibility": null,
      "width": null
     }
    },
    "e3e997e477df41ba8d3b705d484ce777": {
     "model_module": "@jupyter-widgets/base",
     "model_module_version": "1.2.0",
     "model_name": "LayoutModel",
     "state": {
      "_model_module": "@jupyter-widgets/base",
      "_model_module_version": "1.2.0",
      "_model_name": "LayoutModel",
      "_view_count": null,
      "_view_module": "@jupyter-widgets/base",
      "_view_module_version": "1.2.0",
      "_view_name": "LayoutView",
      "align_content": null,
      "align_items": null,
      "align_self": null,
      "border": null,
      "bottom": null,
      "display": null,
      "flex": null,
      "flex_flow": null,
      "grid_area": null,
      "grid_auto_columns": null,
      "grid_auto_flow": null,
      "grid_auto_rows": null,
      "grid_column": null,
      "grid_gap": null,
      "grid_row": null,
      "grid_template_areas": null,
      "grid_template_columns": null,
      "grid_template_rows": null,
      "height": null,
      "justify_content": null,
      "justify_items": null,
      "left": null,
      "margin": null,
      "max_height": null,
      "max_width": null,
      "min_height": null,
      "min_width": null,
      "object_fit": null,
      "object_position": null,
      "order": null,
      "overflow": null,
      "overflow_x": null,
      "overflow_y": null,
      "padding": null,
      "right": null,
      "top": null,
      "visibility": null,
      "width": null
     }
    },
    "f9cfa434ebbe43aab009ab3c09d5d034": {
     "model_module": "@jupyter-widgets/controls",
     "model_module_version": "1.5.0",
     "model_name": "HBoxModel",
     "state": {
      "_dom_classes": [],
      "_model_module": "@jupyter-widgets/controls",
      "_model_module_version": "1.5.0",
      "_model_name": "HBoxModel",
      "_view_count": null,
      "_view_module": "@jupyter-widgets/controls",
      "_view_module_version": "1.5.0",
      "_view_name": "HBoxView",
      "box_style": "",
      "children": [
       "IPY_MODEL_fac30e6bfc3f45e19976e60c178ad599",
       "IPY_MODEL_6d374289030b4812a266cb898a1d2792",
       "IPY_MODEL_3af980d46cc14d468b8a79645f85fc3a"
      ],
      "layout": "IPY_MODEL_e3e997e477df41ba8d3b705d484ce777"
     }
    },
    "fac30e6bfc3f45e19976e60c178ad599": {
     "model_module": "@jupyter-widgets/controls",
     "model_module_version": "1.5.0",
     "model_name": "HTMLModel",
     "state": {
      "_dom_classes": [],
      "_model_module": "@jupyter-widgets/controls",
      "_model_module_version": "1.5.0",
      "_model_name": "HTMLModel",
      "_view_count": null,
      "_view_module": "@jupyter-widgets/controls",
      "_view_module_version": "1.5.0",
      "_view_name": "HTMLView",
      "description": "",
      "description_tooltip": null,
      "layout": "IPY_MODEL_b5292b772a354d53afe024c9ac72fddc",
      "placeholder": "​",
      "style": "IPY_MODEL_7da055ca443b468b8e1fbe6eca779029",
      "value": "Map: 100%"
     }
    }
   }
  }
 },
 "nbformat": 4,
 "nbformat_minor": 0
}
